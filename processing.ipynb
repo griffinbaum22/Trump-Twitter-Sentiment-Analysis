{
 "cells": [
  {
   "cell_type": "markdown",
   "metadata": {},
   "source": [
    "# Downloading Tweets with Tweepy and JSON File"
   ]
  },
  {
   "cell_type": "code",
   "execution_count": 1,
   "metadata": {},
   "outputs": [],
   "source": [
    "import tweepy\n",
    "import json\n",
    "from pathlib import Path"
   ]
  },
  {
   "cell_type": "code",
   "execution_count": 2,
   "metadata": {},
   "outputs": [],
   "source": [
    "key_file = 'keys.json'\n",
    "with open(key_file) as f:\n",
    "    keys = json.load(f)\n",
    "from tweepy import TweepError\n",
    "import logging\n",
    "\n",
    "auth = tweepy.OAuthHandler(keys[\"consumer_key\"], keys[\"consumer_secret\"])\n",
    "auth.set_access_token(keys[\"access_token\"], keys[\"access_token_secret\"])\n",
    "api = tweepy.API(auth, wait_on_rate_limit=True, wait_on_rate_limit_notify=True)"
   ]
  },
  {
   "cell_type": "code",
   "execution_count": 3,
   "metadata": {},
   "outputs": [
    {
     "name": "stdout",
     "output_type": "stream",
     "text": [
      "...3201 tweets downloaded\n"
     ]
    }
   ],
   "source": [
    "current_tweets = []\n",
    "new_tweets = api.user_timeline(screen_name = 'realDonaldTrump', count=200)\n",
    "current_tweets.extend(new_tweets)\n",
    "oldest = current_tweets[-1].id - 1\n",
    "while len(current_tweets) < 3200:\n",
    "    new_tweets = api.user_timeline(screen_name = 'realDonaldTrump',count=200, max_id=oldest)\n",
    "    current_tweets.extend(new_tweets)\n",
    "    oldest = current_tweets[-1].id - 1\n",
    "print(\"...%s tweets downloaded\" % (len(current_tweets)) )\n",
    "latest_tweets = [[tweet.id, tweet.created_at, tweet.source, tweet.retweet_count, tweet.text] for tweet in current_tweets]"
   ]
  },
  {
   "cell_type": "code",
   "execution_count": 4,
   "metadata": {},
   "outputs": [
    {
     "name": "stdout",
     "output_type": "stream",
     "text": [
      "...40241 tweets downloaded\n"
     ]
    }
   ],
   "source": [
    "dest_path = 'data/realdonaldtrump.ndjson'\n",
    "old_trump_tweets = []\n",
    "with open(dest_path) as f:\n",
    "    for tweet in f:\n",
    "        content = json.loads(tweet)\n",
    "        data = [content['id'], content['created_at'], content['source'], content['retweet_count'], content['text']]\n",
    "        old_trump_tweets.append(data)\n",
    "print(\"...%s tweets downloaded\" % (len(old_trump_tweets)) )"
   ]
  },
  {
   "cell_type": "code",
   "execution_count": 5,
   "metadata": {},
   "outputs": [
    {
     "name": "stdout",
     "output_type": "stream",
     "text": [
      "Shape: ( 43442 , 5 )\n"
     ]
    }
   ],
   "source": [
    "all_tweets = latest_tweets + old_trump_tweets\n",
    "print('Shape: (',len(all_tweets), ', 5 )')"
   ]
  },
  {
   "cell_type": "markdown",
   "metadata": {},
   "source": [
    "# Loading Tweets into DataFrame and Cleaning Text"
   ]
  },
  {
   "cell_type": "code",
   "execution_count": 6,
   "metadata": {},
   "outputs": [
    {
     "data": {
      "text/plain": [
       "(43442, 5)"
      ]
     },
     "execution_count": 6,
     "metadata": {},
     "output_type": "execute_result"
    }
   ],
   "source": [
    "import pandas as pd\n",
    "tweets_df = pd.DataFrame(all_tweets, columns=['id', 'created_at', 'source', 'retweet_count', 'text'])\n",
    "tweets_df.shape"
   ]
  },
  {
   "cell_type": "code",
   "execution_count": 7,
   "metadata": {},
   "outputs": [],
   "source": [
    "tweets_df['source'] = tweets_df.source.str.replace(r'<[^>]*>','')\n",
    "tweets_df['created_at'] = tweets_df.created_at.apply(pd.to_datetime)"
   ]
  },
  {
   "cell_type": "code",
   "execution_count": 9,
   "metadata": {},
   "outputs": [],
   "source": [
    "import re\n",
    "import contractions\n",
    "def clean_tweet(tweet):\n",
    "    #expand_contractions\n",
    "    tweet = contractions.fix(tweet)\n",
    "    # remove twitter Return handles (RT @xxx:)\n",
    "    tweet = re.sub(\"RT @[\\w]*:\", \" \",tweet)\n",
    "    # remove twitter handles (@xxx)\n",
    "    tweet = re.sub(\"@[\\w]*\", \" \",tweet)\n",
    "    # remove hashtags (#xxx)\n",
    "    tweet = re.sub(r'#', '' , tweet)\n",
    "    # remove URL links (httpxxx)\n",
    "    tweet = re.sub(\"https?://[A-Za-z0-9./]*\", \" \",tweet)\n",
    "    # remove special characters, numbers, punctuations\n",
    "    tweet = re.sub(\"[^a-zA-Z]\", \" \",tweet)\n",
    "    return tweet.lower()"
   ]
  },
  {
   "cell_type": "code",
   "execution_count": 10,
   "metadata": {},
   "outputs": [],
   "source": [
    "tweets_df['clean'] = tweets_df.text.apply(clean_tweet)"
   ]
  },
  {
   "cell_type": "code",
   "execution_count": 14,
   "metadata": {},
   "outputs": [],
   "source": [
    "from vaderSentiment.vaderSentiment import SentimentIntensityAnalyzer\n",
    "analyzer = SentimentIntensityAnalyzer()\n",
    "tweets_df['sentiment'] = tweets_df.text.apply(lambda x: analyzer.polarity_scores(x)['compound'])"
   ]
  },
  {
   "cell_type": "code",
   "execution_count": 15,
   "metadata": {},
   "outputs": [
    {
     "data": {
      "text/html": [
       "<div>\n",
       "<style scoped>\n",
       "    .dataframe tbody tr th:only-of-type {\n",
       "        vertical-align: middle;\n",
       "    }\n",
       "\n",
       "    .dataframe tbody tr th {\n",
       "        vertical-align: top;\n",
       "    }\n",
       "\n",
       "    .dataframe thead th {\n",
       "        text-align: right;\n",
       "    }\n",
       "</style>\n",
       "<table border=\"1\" class=\"dataframe\">\n",
       "  <thead>\n",
       "    <tr style=\"text-align: right;\">\n",
       "      <th></th>\n",
       "      <th>id</th>\n",
       "      <th>created_at</th>\n",
       "      <th>source</th>\n",
       "      <th>retweet_count</th>\n",
       "      <th>text</th>\n",
       "      <th>clean</th>\n",
       "      <th>sentiment</th>\n",
       "    </tr>\n",
       "  </thead>\n",
       "  <tbody>\n",
       "    <tr>\n",
       "      <th>0</th>\n",
       "      <td>1238046001744826369</td>\n",
       "      <td>2020-03-12 10:15:43</td>\n",
       "      <td>Twitter for iPhone</td>\n",
       "      <td>1241</td>\n",
       "      <td>“Nancy Pelosi all of a sudden doesn’t like the...</td>\n",
       "      <td>nancy pelosi all of a sudden does not like th...</td>\n",
       "      <td>0.0516</td>\n",
       "    </tr>\n",
       "    <tr>\n",
       "      <th>1</th>\n",
       "      <td>1238042153483411456</td>\n",
       "      <td>2020-03-12 10:00:25</td>\n",
       "      <td>Twitter for iPhone</td>\n",
       "      <td>3987</td>\n",
       "      <td>RT @charliekirk11: Facts:\\n\\nFederal tax dolla...</td>\n",
       "      <td>facts   federal tax dollars will no longer g...</td>\n",
       "      <td>-0.8481</td>\n",
       "    </tr>\n",
       "    <tr>\n",
       "      <th>2</th>\n",
       "      <td>1238041635256238080</td>\n",
       "      <td>2020-03-12 09:58:22</td>\n",
       "      <td>Twitter for iPhone</td>\n",
       "      <td>6525</td>\n",
       "      <td>RT @JonathanTurley: Schumer's threat to the Co...</td>\n",
       "      <td>schumer s threat to the court that  you will...</td>\n",
       "      <td>-0.6486</td>\n",
       "    </tr>\n",
       "    <tr>\n",
       "      <th>3</th>\n",
       "      <td>1238041481396588544</td>\n",
       "      <td>2020-03-12 09:57:45</td>\n",
       "      <td>Twitter for iPhone</td>\n",
       "      <td>2306</td>\n",
       "      <td>RT @flightcrew: MUST WATCH!! Best Trump Ad Eve...</td>\n",
       "      <td>must watch   best trump ad ever       fighte...</td>\n",
       "      <td>0.7482</td>\n",
       "    </tr>\n",
       "    <tr>\n",
       "      <th>4</th>\n",
       "      <td>1238040722391150592</td>\n",
       "      <td>2020-03-12 09:54:44</td>\n",
       "      <td>Twitter for iPhone</td>\n",
       "      <td>7136</td>\n",
       "      <td>RT @RyanAFournier: 77% of Americans are confid...</td>\n",
       "      <td>of americans are confident in the trump ...</td>\n",
       "      <td>0.6705</td>\n",
       "    </tr>\n",
       "  </tbody>\n",
       "</table>\n",
       "</div>"
      ],
      "text/plain": [
       "                    id           created_at              source  \\\n",
       "0  1238046001744826369  2020-03-12 10:15:43  Twitter for iPhone   \n",
       "1  1238042153483411456  2020-03-12 10:00:25  Twitter for iPhone   \n",
       "2  1238041635256238080  2020-03-12 09:58:22  Twitter for iPhone   \n",
       "3  1238041481396588544  2020-03-12 09:57:45  Twitter for iPhone   \n",
       "4  1238040722391150592  2020-03-12 09:54:44  Twitter for iPhone   \n",
       "\n",
       "   retweet_count                                               text  \\\n",
       "0           1241  “Nancy Pelosi all of a sudden doesn’t like the...   \n",
       "1           3987  RT @charliekirk11: Facts:\\n\\nFederal tax dolla...   \n",
       "2           6525  RT @JonathanTurley: Schumer's threat to the Co...   \n",
       "3           2306  RT @flightcrew: MUST WATCH!! Best Trump Ad Eve...   \n",
       "4           7136  RT @RyanAFournier: 77% of Americans are confid...   \n",
       "\n",
       "                                               clean  sentiment  \n",
       "0   nancy pelosi all of a sudden does not like th...     0.0516  \n",
       "1    facts   federal tax dollars will no longer g...    -0.8481  \n",
       "2    schumer s threat to the court that  you will...    -0.6486  \n",
       "3    must watch   best trump ad ever       fighte...     0.7482  \n",
       "4        of americans are confident in the trump ...     0.6705  "
      ]
     },
     "execution_count": 15,
     "metadata": {},
     "output_type": "execute_result"
    }
   ],
   "source": [
    "tweets_df.head(5)"
   ]
  },
  {
   "cell_type": "code",
   "execution_count": 20,
   "metadata": {},
   "outputs": [],
   "source": [
    "def sentiment_score_label(score):\n",
    "    if score > 0:\n",
    "        return 1\n",
    "    elif score < 0:\n",
    "        return -1\n",
    "    else:\n",
    "        return 0"
   ]
  },
  {
   "cell_type": "code",
   "execution_count": 21,
   "metadata": {},
   "outputs": [],
   "source": [
    "sentiment_labels = tweets_df.sentiment.apply(sentiment_score_label)"
   ]
  },
  {
   "cell_type": "markdown",
   "metadata": {},
   "source": [
    "# Saving Tweet Data and Sentiment Labels"
   ]
  },
  {
   "cell_type": "code",
   "execution_count": 22,
   "metadata": {},
   "outputs": [],
   "source": [
    "def save_tweets(tweets, path):\n",
    "    with open(path, \"wb\") as f:\n",
    "        import pickle\n",
    "        pickle.dump(tweets, f)"
   ]
  },
  {
   "cell_type": "code",
   "execution_count": 23,
   "metadata": {},
   "outputs": [],
   "source": [
    "save_tweets(tweets_df, path = \"data/Trump_Tweets_Data-43442.pkl\")\n",
    "save_tweets(sentiment_labels, path = \"data/Sentiment_Labels.pkl\")"
   ]
  }
 ],
 "metadata": {
  "kernelspec": {
   "display_name": "Python 3",
   "language": "python",
   "name": "python3"
  },
  "language_info": {
   "codemirror_mode": {
    "name": "ipython",
    "version": 3
   },
   "file_extension": ".py",
   "mimetype": "text/x-python",
   "name": "python",
   "nbconvert_exporter": "python",
   "pygments_lexer": "ipython3",
   "version": "3.6.4"
  }
 },
 "nbformat": 4,
 "nbformat_minor": 4
}
