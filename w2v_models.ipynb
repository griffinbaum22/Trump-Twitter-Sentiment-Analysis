{
 "cells": [
  {
   "cell_type": "markdown",
   "metadata": {},
   "source": [
    "# Deep Learning Models"
   ]
  },
  {
   "cell_type": "code",
   "execution_count": 16,
   "metadata": {},
   "outputs": [],
   "source": [
    "import pandas as pd\n",
    "import numpy as np\n",
    "\n",
    "def load_tweets(path):\n",
    "    with open(path, \"rb\") as f:\n",
    "        import pickle\n",
    "        e_tweets = pickle.load(f)\n",
    "    return e_tweets"
   ]
  },
  {
   "cell_type": "code",
   "execution_count": 4,
   "metadata": {},
   "outputs": [],
   "source": [
    "tweets = load_tweets(path = \"data/clean_text.pkl\")\n",
    "labels = load_tweets(path = \"data/Sentiment_Labels.pkl\")"
   ]
  },
  {
   "cell_type": "code",
   "execution_count": 7,
   "metadata": {},
   "outputs": [],
   "source": [
    "tweets_df = pd.DataFrame(data={'tweets': tweets, 'label': labels})\n",
    "tweet, label = tweets_df.loc[tweets_df.label != 0, :].tweets, tweets_df.loc[tweets_df.label != 0, :].label"
   ]
  },
  {
   "cell_type": "code",
   "execution_count": 9,
   "metadata": {},
   "outputs": [
    {
     "name": "stdout",
     "output_type": "stream",
     "text": [
      "(27993,) (6999,)\n"
     ]
    }
   ],
   "source": [
    "from sklearn.model_selection import train_test_split\n",
    "X_train, X_test, y_train, y_test = train_test_split(\n",
    "   tweet, label, train_size=0.8, test_size=0.2, random_state=42)\n",
    "print(X_train.shape, X_test.shape)"
   ]
  },
  {
   "cell_type": "code",
   "execution_count": 10,
   "metadata": {},
   "outputs": [
    {
     "name": "stderr",
     "output_type": "stream",
     "text": [
      "/srv/conda/envs/data100/lib/python3.6/site-packages/tensorflow/python/framework/dtypes.py:523: FutureWarning: Passing (type, 1) or '1type' as a synonym of type is deprecated; in a future version of numpy, it will be understood as (type, (1,)) / '(1,)type'.\n",
      "  _np_qint8 = np.dtype([(\"qint8\", np.int8, 1)])\n",
      "/srv/conda/envs/data100/lib/python3.6/site-packages/tensorflow/python/framework/dtypes.py:524: FutureWarning: Passing (type, 1) or '1type' as a synonym of type is deprecated; in a future version of numpy, it will be understood as (type, (1,)) / '(1,)type'.\n",
      "  _np_quint8 = np.dtype([(\"quint8\", np.uint8, 1)])\n",
      "/srv/conda/envs/data100/lib/python3.6/site-packages/tensorflow/python/framework/dtypes.py:525: FutureWarning: Passing (type, 1) or '1type' as a synonym of type is deprecated; in a future version of numpy, it will be understood as (type, (1,)) / '(1,)type'.\n",
      "  _np_qint16 = np.dtype([(\"qint16\", np.int16, 1)])\n",
      "/srv/conda/envs/data100/lib/python3.6/site-packages/tensorflow/python/framework/dtypes.py:526: FutureWarning: Passing (type, 1) or '1type' as a synonym of type is deprecated; in a future version of numpy, it will be understood as (type, (1,)) / '(1,)type'.\n",
      "  _np_quint16 = np.dtype([(\"quint16\", np.uint16, 1)])\n",
      "/srv/conda/envs/data100/lib/python3.6/site-packages/tensorflow/python/framework/dtypes.py:527: FutureWarning: Passing (type, 1) or '1type' as a synonym of type is deprecated; in a future version of numpy, it will be understood as (type, (1,)) / '(1,)type'.\n",
      "  _np_qint32 = np.dtype([(\"qint32\", np.int32, 1)])\n",
      "/srv/conda/envs/data100/lib/python3.6/site-packages/tensorflow/python/framework/dtypes.py:532: FutureWarning: Passing (type, 1) or '1type' as a synonym of type is deprecated; in a future version of numpy, it will be understood as (type, (1,)) / '(1,)type'.\n",
      "  np_resource = np.dtype([(\"resource\", np.ubyte, 1)])\n"
     ]
    },
    {
     "name": "stdout",
     "output_type": "stream",
     "text": [
      "Vocab Size: 17508\n"
     ]
    }
   ],
   "source": [
    "from tensorflow.keras.preprocessing.text import Tokenizer\n",
    "from tensorflow.keras.preprocessing import sequence\n",
    "\n",
    "max_len = 140\n",
    "embedding_dim = 32\n",
    "\n",
    "tokenizer = Tokenizer()\n",
    "tokenizer.fit_on_texts(X_train)\n",
    "x_train = tokenizer.texts_to_sequences(X_train)\n",
    "x_test = tokenizer.texts_to_sequences(X_test)\n",
    "\n",
    "train = sequence.pad_sequences(x_train, maxlen = max_len)\n",
    "test = sequence.pad_sequences(x_test, maxlen = max_len)\n",
    "\n",
    "vocab_size = len(tokenizer.word_index) + 1\n",
    "print(f'Vocab Size: {vocab_size}')\n"
   ]
  },
  {
   "cell_type": "markdown",
   "metadata": {},
   "source": [
    "# Baseline Model"
   ]
  },
  {
   "cell_type": "code",
   "execution_count": 54,
   "metadata": {},
   "outputs": [
    {
     "name": "stdout",
     "output_type": "stream",
     "text": [
      "_________________________________________________________________\n",
      "Layer (type)                 Output Shape              Param #   \n",
      "=================================================================\n",
      "embedding_4 (Embedding)      (None, 140, 32)           560256    \n",
      "_________________________________________________________________\n",
      "flatten_4 (Flatten)          (None, 4480)              0         \n",
      "_________________________________________________________________\n",
      "dense_4 (Dense)              (None, 1)                 4481      \n",
      "=================================================================\n",
      "Total params: 564,737\n",
      "Trainable params: 564,737\n",
      "Non-trainable params: 0\n",
      "_________________________________________________________________\n"
     ]
    }
   ],
   "source": [
    "from tensorflow.keras.models import Sequential\n",
    "from tensorflow.keras.layers import Dense, Flatten, Embedding, Activation\n",
    "\n",
    "base_model = Sequential()\n",
    "base_model.add(Embedding(vocab_size, embedding_dim, input_length = max_len))\n",
    "base_model.add(Flatten())\n",
    "base_model.add(Dense(1, activation='sigmoid'))\n",
    "base_model.compile(loss='binary_crossentropy', optimizer='adam', metrics=['accuracy'])\n",
    "base_model.summary()"
   ]
  },
  {
   "cell_type": "code",
   "execution_count": 59,
   "metadata": {},
   "outputs": [
    {
     "name": "stdout",
     "output_type": "stream",
     "text": [
      "Epoch 1/10\n",
      "27993/27993 [==============================] - 5s 173us/step - loss: -4.4323 - acc: 0.6675\n",
      "Epoch 2/10\n",
      "27993/27993 [==============================] - 5s 163us/step - loss: -4.4876 - acc: 0.6718\n",
      "Epoch 3/10\n",
      "27993/27993 [==============================] - 5s 192us/step - loss: -4.5304 - acc: 0.6763\n",
      "Epoch 4/10\n",
      "27993/27993 [==============================] - 5s 165us/step - loss: -4.5622 - acc: 0.6797\n",
      "Epoch 5/10\n",
      "27993/27993 [==============================] - 5s 169us/step - loss: -4.5853 - acc: 0.6822\n",
      "Epoch 6/10\n",
      "27993/27993 [==============================] - 5s 164us/step - loss: -4.6053 - acc: 0.6832\n",
      "Epoch 7/10\n",
      "27993/27993 [==============================] - 4s 160us/step - loss: -4.6187 - acc: 0.6853\n",
      "Epoch 8/10\n",
      "27993/27993 [==============================] - 5s 167us/step - loss: -4.6302 - acc: 0.6860\n",
      "Epoch 9/10\n",
      "27993/27993 [==============================] - 5s 167us/step - loss: -4.6428 - acc: 0.6878\n",
      "Epoch 10/10\n",
      "27993/27993 [==============================] - 5s 163us/step - loss: -4.6500 - acc: 0.6882\n"
     ]
    },
    {
     "data": {
      "text/plain": [
       "<tensorflow.python.keras.callbacks.History at 0x7fbf30338978>"
      ]
     },
     "execution_count": 59,
     "metadata": {},
     "output_type": "execute_result"
    }
   ],
   "source": [
    "base_model.fit(train, y_train, epochs = 10, batch_size = 30, verbose=1)"
   ]
  },
  {
   "cell_type": "code",
   "execution_count": 60,
   "metadata": {},
   "outputs": [
    {
     "name": "stdout",
     "output_type": "stream",
     "text": [
      "Testing Accuracy:  0.5835\n"
     ]
    }
   ],
   "source": [
    "loss, accuracy = base_model.evaluate(test, y_test, verbose=False)\n",
    "print(\"Testing Accuracy:  {:.4f}\".format(accuracy))"
   ]
  },
  {
   "cell_type": "markdown",
   "metadata": {},
   "source": [
    "# Word2Vec"
   ]
  },
  {
   "cell_type": "code",
   "execution_count": 12,
   "metadata": {},
   "outputs": [],
   "source": [
    "import gensim\n",
    "from gensim.models import word2vec, KeyedVectors, Word2Vec"
   ]
  },
  {
   "cell_type": "code",
   "execution_count": 68,
   "metadata": {},
   "outputs": [],
   "source": [
    "tokens = X_train.apply(lambda x: x.split())\n",
    "\n",
    "num_features = 300          \n",
    "min_word_count = 10                      \n",
    "num_workers = 8\n",
    "window = 10 \n",
    "w2v_epochs = 32\n",
    "\n",
    "w2v_model = word2vec.Word2Vec(size = num_features, window = window, min_count = min_word_count, \n",
    "                              workers = num_workers)\n",
    "\n",
    "w2v_model.build_vocab(tokens)"
   ]
  },
  {
   "cell_type": "code",
   "execution_count": 70,
   "metadata": {},
   "outputs": [
    {
     "data": {
      "text/plain": [
       "(6437016, 8061120)"
      ]
     },
     "execution_count": 70,
     "metadata": {},
     "output_type": "execute_result"
    }
   ],
   "source": [
    "w2v_model.train(tokens, total_examples = len(tokens), epochs = w2v_epochs)"
   ]
  },
  {
   "cell_type": "code",
   "execution_count": 77,
   "metadata": {},
   "outputs": [
    {
     "name": "stderr",
     "output_type": "stream",
     "text": [
      "/srv/conda/envs/data100/lib/python3.6/site-packages/ipykernel_launcher.py:7: DeprecationWarning: Call to deprecated `__getitem__` (Method will be removed in 4.0.0, use self.wv.__getitem__() instead).\n",
      "  import sys\n"
     ]
    }
   ],
   "source": [
    "import matplotlib.pyplot as plt\n",
    "from sklearn.decomposition import PCA\n",
    "\n",
    "word_vectors = w2v_model.wv\n",
    "vocab_tmp = list(word_vectors.vocab)\n",
    "\n",
    "X = w2v_model[vocab_tmp]\n",
    "pca = PCA(n_components = 2).fit_transform(X)"
   ]
  },
  {
   "cell_type": "code",
   "execution_count": 78,
   "metadata": {},
   "outputs": [
    {
     "data": {
      "image/png": "[encoded data removed]",
      "text/plain": [
       "<Figure size 1000x1000 with 1 Axes>"
      ]
     },
     "metadata": {
      "needs_background": "light"
     },
     "output_type": "display_data"
    }
   ],
   "source": [
    "plt.figure(figsize=(10,10),dpi=100)\n",
    "\n",
    "df = pd.concat([pd.DataFrame(pca), pd.Series(vocab_tmp)], axis=1)\n",
    "df.columns = ['x', 'y', 'word']\n",
    "\n",
    "plt.xlabel(\"1st Principal Component\")\n",
    "plt.ylabel('2nd Principal Component')\n",
    "\n",
    "\n",
    "plt.scatter(x = pca[:, 0], y = pca[:, 1], s = 3)\n",
    "for i, word in enumerate(df['word'][0:100]):\n",
    "    plt.annotate(word, (df['x'].iloc[i], df['y'].iloc[i]))\n",
    "plt.title(\"PCA Embedding\")\n",
    "plt.show()"
   ]
  },
  {
   "cell_type": "code",
   "execution_count": 79,
   "metadata": {},
   "outputs": [
    {
     "name": "stderr",
     "output_type": "stream",
     "text": [
      "/srv/conda/envs/data100/lib/python3.6/site-packages/ipykernel_launcher.py:1: DeprecationWarning: Call to deprecated `most_similar` (Method will be removed in 4.0.0, use self.wv.most_similar() instead).\n",
      "  \"\"\"Entry point for launching an IPython kernel.\n"
     ]
    },
    {
     "data": {
      "text/plain": [
       "[('trumpforpresident', 0.3393762707710266),\n",
       " ('stuff', 0.3390505015850067),\n",
       " ('ya', 0.3334254324436188),\n",
       " ('definitely', 0.31823068857192993),\n",
       " ('landmark', 0.317394495010376),\n",
       " ('elect', 0.3146878778934479),\n",
       " ('thx', 0.3114921450614929),\n",
       " ('tcot', 0.30869537591934204),\n",
       " ('exclusive', 0.30713075399398804),\n",
       " ('hey', 0.30370545387268066)]"
      ]
     },
     "execution_count": 79,
     "metadata": {},
     "output_type": "execute_result"
    }
   ],
   "source": [
    "w2v_model.most_similar('trump')"
   ]
  },
  {
   "cell_type": "code",
   "execution_count": 80,
   "metadata": {},
   "outputs": [
    {
     "name": "stderr",
     "output_type": "stream",
     "text": [
      "/srv/conda/envs/data100/lib/python3.6/site-packages/ipykernel_launcher.py:1: DeprecationWarning: Call to deprecated `most_similar` (Method will be removed in 4.0.0, use self.wv.most_similar() instead).\n",
      "  \"\"\"Entry point for launching an IPython kernel.\n"
     ]
    },
    {
     "data": {
      "text/plain": [
       "[('greta', 0.5857903361320496),\n",
       " ('wallace', 0.5679925680160522),\n",
       " ('chris', 0.540320634841919),\n",
       " ('listening', 0.505423903465271),\n",
       " ('cable', 0.4957653880119324),\n",
       " ('minutes', 0.4908280670642853),\n",
       " ('abc', 0.4859207272529602),\n",
       " ('radio', 0.4807280898094177),\n",
       " ('msnbc', 0.46167320013046265),\n",
       " ('cbs', 0.4565206468105316)]"
      ]
     },
     "execution_count": 80,
     "metadata": {},
     "output_type": "execute_result"
    }
   ],
   "source": [
    "w2v_model.most_similar('fox')"
   ]
  },
  {
   "cell_type": "code",
   "execution_count": 81,
   "metadata": {},
   "outputs": [
    {
     "name": "stderr",
     "output_type": "stream",
     "text": [
      "/srv/conda/envs/data100/lib/python3.6/site-packages/ipykernel_launcher.py:1: DeprecationWarning: Call to deprecated `most_similar` (Method will be removed in 4.0.0, use self.wv.most_similar() instead).\n",
      "  \"\"\"Entry point for launching an IPython kernel.\n"
     ]
    },
    {
     "data": {
      "text/plain": [
       "[('chinese', 0.6078228950500488),\n",
       " ('manipulation', 0.6015561819076538),\n",
       " ('currency', 0.5803742408752441),\n",
       " ('opec', 0.5763264894485474),\n",
       " ('treasury', 0.5530341863632202),\n",
       " ('oil', 0.5066781640052795),\n",
       " ('laugh', 0.4987688660621643),\n",
       " ('tariffs', 0.4961910843849182),\n",
       " ('japan', 0.4948878884315491),\n",
       " ('countries', 0.49311399459838867)]"
      ]
     },
     "execution_count": 81,
     "metadata": {},
     "output_type": "execute_result"
    }
   ],
   "source": [
    "w2v_model.most_similar('china')"
   ]
  },
  {
   "cell_type": "code",
   "execution_count": 82,
   "metadata": {},
   "outputs": [
    {
     "name": "stderr",
     "output_type": "stream",
     "text": [
      "/srv/conda/envs/data100/lib/python3.6/site-packages/ipykernel_launcher.py:1: DeprecationWarning: Call to deprecated `most_similar` (Method will be removed in 4.0.0, use self.wv.most_similar() instead).\n",
      "  \"\"\"Entry point for launching an IPython kernel.\n"
     ]
    },
    {
     "data": {
      "text/plain": [
       "[('tariffs', 0.5797913074493408),\n",
       " ('plant', 0.5588988661766052),\n",
       " ('cars', 0.5526720285415649),\n",
       " ('mexican', 0.5481626391410828),\n",
       " ('trade', 0.5334032773971558),\n",
       " ('southern', 0.5267270803451538),\n",
       " ('produce', 0.52374267578125),\n",
       " ('canada', 0.5041123628616333),\n",
       " ('cancel', 0.48837822675704956),\n",
       " ('wall', 0.4818826913833618)]"
      ]
     },
     "execution_count": 82,
     "metadata": {},
     "output_type": "execute_result"
    }
   ],
   "source": [
    "w2v_model.most_similar('mexico')"
   ]
  },
  {
   "cell_type": "code",
   "execution_count": 83,
   "metadata": {},
   "outputs": [
    {
     "name": "stderr",
     "output_type": "stream",
     "text": [
      "/srv/conda/envs/data100/lib/python3.6/site-packages/ipykernel_launcher.py:1: DeprecationWarning: Call to deprecated `most_similar` (Method will be removed in 4.0.0, use self.wv.most_similar() instead).\n",
      "  \"\"\"Entry point for launching an IPython kernel.\n"
     ]
    },
    {
     "data": {
      "text/plain": [
       "[('deals', 0.6277050971984863),\n",
       " ('tariffs', 0.5723737478256226),\n",
       " ('farmers', 0.5713272094726562),\n",
       " ('mexico', 0.5334032773971558),\n",
       " ('japan', 0.5296262502670288),\n",
       " ('cars', 0.5096592307090759),\n",
       " ('negotiators', 0.502869725227356),\n",
       " ('negotiated', 0.5025371313095093),\n",
       " ('nafta', 0.5009671449661255),\n",
       " ('companies', 0.4810084104537964)]"
      ]
     },
     "execution_count": 83,
     "metadata": {},
     "output_type": "execute_result"
    }
   ],
   "source": [
    "w2v_model.most_similar('trade')"
   ]
  },
  {
   "cell_type": "code",
   "execution_count": 84,
   "metadata": {},
   "outputs": [
    {
     "name": "stderr",
     "output_type": "stream",
     "text": [
      "/srv/conda/envs/data100/lib/python3.6/site-packages/ipykernel_launcher.py:1: DeprecationWarning: Call to deprecated `most_similar` (Method will be removed in 4.0.0, use self.wv.most_similar() instead).\n",
      "  \"\"\"Entry point for launching an IPython kernel.\n"
     ]
    },
    {
     "data": {
      "text/plain": [
       "[('trumppence', 0.6963237524032593),\n",
       " ('imwithyou', 0.6472546458244324),\n",
       " ('americafirst', 0.6254812479019165),\n",
       " ('kag', 0.6230806112289429),\n",
       " ('colorado', 0.6071087121963501),\n",
       " ('votetrump', 0.60384601354599),\n",
       " ('maine', 0.6011710166931152),\n",
       " ('arizona', 0.5910359025001526),\n",
       " ('wisconsin', 0.5880006551742554),\n",
       " ('departing', 0.5627131462097168)]"
      ]
     },
     "execution_count": 84,
     "metadata": {},
     "output_type": "execute_result"
    }
   ],
   "source": [
    "w2v_model.most_similar('maga')"
   ]
  },
  {
   "cell_type": "code",
   "execution_count": 85,
   "metadata": {},
   "outputs": [
    {
     "name": "stderr",
     "output_type": "stream",
     "text": [
      "/srv/conda/envs/data100/lib/python3.6/site-packages/ipykernel_launcher.py:1: DeprecationWarning: Call to deprecated `most_similar` (Method will be removed in 4.0.0, use self.wv.most_similar() instead).\n",
      "  \"\"\"Entry point for launching an IPython kernel.\n"
     ]
    },
    {
     "data": {
      "text/plain": [
       "[('democrats', 0.653983473777771),\n",
       " ('dem', 0.6102787256240845),\n",
       " ('votes', 0.5736371278762817),\n",
       " ('democrat', 0.5647380948066711),\n",
       " ('republicans', 0.5242307186126709),\n",
       " ('increases', 0.5036899447441101),\n",
       " ('partisan', 0.49507319927215576),\n",
       " ('wi', 0.4926573932170868),\n",
       " ('opponents', 0.486750066280365),\n",
       " ('sham', 0.4863821268081665)]"
      ]
     },
     "execution_count": 85,
     "metadata": {},
     "output_type": "execute_result"
    }
   ],
   "source": [
    "w2v_model.most_similar('dems')"
   ]
  },
  {
   "cell_type": "code",
   "execution_count": 87,
   "metadata": {},
   "outputs": [
    {
     "name": "stderr",
     "output_type": "stream",
     "text": [
      "/srv/conda/envs/data100/lib/python3.6/site-packages/ipykernel_launcher.py:1: DeprecationWarning: Call to deprecated `most_similar` (Method will be removed in 4.0.0, use self.wv.most_similar() instead).\n",
      "  \"\"\"Entry point for launching an IPython kernel.\n"
     ]
    },
    {
     "data": {
      "text/plain": [
       "[('crooked', 0.6903309226036072),\n",
       " ('emails', 0.6059390306472778),\n",
       " ('mail', 0.5785791873931885),\n",
       " ('podesta', 0.5587329864501953),\n",
       " ('rigged', 0.5498247742652893),\n",
       " ('e', 0.5432493686676025),\n",
       " ('beating', 0.5315985679626465),\n",
       " ('server', 0.5086430907249451),\n",
       " ('mails', 0.4981616139411926),\n",
       " ('beat', 0.49414142966270447)]"
      ]
     },
     "execution_count": 87,
     "metadata": {},
     "output_type": "execute_result"
    }
   ],
   "source": [
    "w2v_model.most_similar('clinton')"
   ]
  },
  {
   "cell_type": "code",
   "execution_count": 88,
   "metadata": {},
   "outputs": [
    {
     "name": "stderr",
     "output_type": "stream",
     "text": [
      "/srv/conda/envs/data100/lib/python3.6/site-packages/ipykernel_launcher.py:1: DeprecationWarning: Call to deprecated `most_similar` (Method will be removed in 4.0.0, use self.wv.most_similar() instead).\n",
      "  \"\"\"Entry point for launching an IPython kernel.\n"
     ]
    },
    {
     "data": {
      "text/plain": [
       "[('korean', 0.7730749845504761),\n",
       " ('jong', 0.6356285214424133),\n",
       " ('north', 0.6241601705551147),\n",
       " ('kim', 0.6197041273117065),\n",
       " ('un', 0.6101192235946655),\n",
       " ('carolina', 0.5827369689941406),\n",
       " ('amounts', 0.5566794276237488),\n",
       " ('japan', 0.5226253271102905),\n",
       " ('missile', 0.5146039724349976),\n",
       " ('nuclear', 0.5083788633346558)]"
      ]
     },
     "execution_count": 88,
     "metadata": {},
     "output_type": "execute_result"
    }
   ],
   "source": [
    "w2v_model.most_similar('korea')"
   ]
  },
  {
   "cell_type": "code",
   "execution_count": 90,
   "metadata": {},
   "outputs": [
    {
     "name": "stderr",
     "output_type": "stream",
     "text": [
      "/srv/conda/envs/data100/lib/python3.6/site-packages/ipykernel_launcher.py:1: DeprecationWarning: Call to deprecated `most_similar` (Method will be removed in 4.0.0, use self.wv.most_similar() instead).\n",
      "  \"\"\"Entry point for launching an IPython kernel.\n"
     ]
    },
    {
     "data": {
      "text/plain": [
       "[('exactly', 0.5328895449638367),\n",
       " ('knowing', 0.5211573839187622),\n",
       " ('lack', 0.5004627704620361),\n",
       " ('churchill', 0.4978232979774475),\n",
       " ('obviously', 0.49534350633621216),\n",
       " ('admit', 0.4884564280509949),\n",
       " ('winston', 0.48785626888275146),\n",
       " ('trust', 0.4874556064605713),\n",
       " ('ppl', 0.482769250869751),\n",
       " ('scared', 0.48018234968185425)]"
      ]
     },
     "execution_count": 90,
     "metadata": {},
     "output_type": "execute_result"
    }
   ],
   "source": [
    "w2v_model.most_similar('liberals')"
   ]
  },
  {
   "cell_type": "code",
   "execution_count": 91,
   "metadata": {},
   "outputs": [
    {
     "name": "stderr",
     "output_type": "stream",
     "text": [
      "/srv/conda/envs/data100/lib/python3.6/site-packages/ipykernel_launcher.py:1: DeprecationWarning: Call to deprecated `most_similar` (Method will be removed in 4.0.0, use self.wv.most_similar() instead).\n",
      "  \"\"\"Entry point for launching an IPython kernel.\n"
     ]
    },
    {
     "data": {
      "text/plain": [
       "[('desperately', 0.46111151576042175),\n",
       " ('quick', 0.44178780913352966),\n",
       " ('marine', 0.43704527616500854),\n",
       " ('resources', 0.4101315140724182),\n",
       " ('stopped', 0.39458924531936646),\n",
       " ('alaska', 0.38697749376296997),\n",
       " ('donate', 0.369131863117218),\n",
       " ('protection', 0.36878839135169983),\n",
       " ('send', 0.3656095266342163),\n",
       " ('trail', 0.36003053188323975)]"
      ]
     },
     "execution_count": 91,
     "metadata": {},
     "output_type": "execute_result"
    }
   ],
   "source": [
    "w2v_model.most_similar('help')"
   ]
  },
  {
   "cell_type": "code",
   "execution_count": 92,
   "metadata": {},
   "outputs": [
    {
     "name": "stderr",
     "output_type": "stream",
     "text": [
      "/srv/conda/envs/data100/lib/python3.6/site-packages/ipykernel_launcher.py:1: DeprecationWarning: Call to deprecated `most_similar` (Method will be removed in 4.0.0, use self.wv.most_similar() instead).\n",
      "  \"\"\"Entry point for launching an IPython kernel.\n"
     ]
    },
    {
     "data": {
      "text/plain": [
       "[('admire', 0.4990633726119995),\n",
       " ('inspiration', 0.4461749792098999),\n",
       " ('awesome', 0.4284957945346832),\n",
       " ('ur', 0.40285906195640564),\n",
       " ('hate', 0.400732159614563),\n",
       " ('loving', 0.374795526266098),\n",
       " ('passion', 0.37445923686027527),\n",
       " ('shit', 0.3701680302619934),\n",
       " ('joan', 0.3686226010322571),\n",
       " ('buffalo', 0.3675856590270996)]"
      ]
     },
     "execution_count": 92,
     "metadata": {},
     "output_type": "execute_result"
    }
   ],
   "source": [
    "w2v_model.most_similar('love')"
   ]
  },
  {
   "cell_type": "code",
   "execution_count": 93,
   "metadata": {},
   "outputs": [
    {
     "name": "stderr",
     "output_type": "stream",
     "text": [
      "/srv/conda/envs/data100/lib/python3.6/site-packages/ipykernel_launcher.py:1: DeprecationWarning: Call to deprecated `most_similar` (Method will be removed in 4.0.0, use self.wv.most_similar() instead).\n",
      "  \"\"\"Entry point for launching an IPython kernel.\n"
     ]
    },
    {
     "data": {
      "text/plain": [
       "[('fantastic', 0.6701199412345886),\n",
       " ('incredible', 0.5351399183273315),\n",
       " ('amazing', 0.47923868894577026),\n",
       " ('tremendous', 0.47887539863586426),\n",
       " ('wonderful', 0.47007840871810913),\n",
       " ('exciting', 0.4168210029602051),\n",
       " ('proud', 0.4167030453681946),\n",
       " ('arrived', 0.4153571128845215),\n",
       " ('awesome', 0.4118695557117462),\n",
       " ('excellent', 0.40317589044570923)]"
      ]
     },
     "execution_count": 93,
     "metadata": {},
     "output_type": "execute_result"
    }
   ],
   "source": [
    "w2v_model.most_similar('great')"
   ]
  },
  {
   "cell_type": "markdown",
   "metadata": {},
   "source": [
    "# CNN with Trained Embeddings"
   ]
  },
  {
   "cell_type": "code",
   "execution_count": 37,
   "metadata": {},
   "outputs": [
    {
     "name": "stdout",
     "output_type": "stream",
     "text": [
      "(17508, 300)\n"
     ]
    }
   ],
   "source": [
    "embedding_matrix = np.zeros((vocab_size, num_features))\n",
    "for word, i in tokenizer.word_index.items():\n",
    "    if word in word_vectors:\n",
    "        embedding_matrix[i] = word_vectors[word]\n",
    "print(embedding_matrix.shape)"
   ]
  },
  {
   "cell_type": "code",
   "execution_count": 132,
   "metadata": {},
   "outputs": [
    {
     "name": "stdout",
     "output_type": "stream",
     "text": [
      "_________________________________________________________________\n",
      "Layer (type)                 Output Shape              Param #   \n",
      "=================================================================\n",
      "embedding_7 (Embedding)      (None, 140, 300)          5252400   \n",
      "_________________________________________________________________\n",
      "conv1d_1 (Conv1D)            (None, 140, 32)           28832     \n",
      "_________________________________________________________________\n",
      "max_pooling1d (MaxPooling1D) (None, 70, 32)            0         \n",
      "_________________________________________________________________\n",
      "flatten_6 (Flatten)          (None, 2240)              0         \n",
      "_________________________________________________________________\n",
      "dense_16 (Dense)             (None, 250)               560250    \n",
      "_________________________________________________________________\n",
      "dense_17 (Dense)             (None, 1)                 251       \n",
      "=================================================================\n",
      "Total params: 5,841,733\n",
      "Trainable params: 5,841,733\n",
      "Non-trainable params: 0\n",
      "_________________________________________________________________\n",
      "None\n"
     ]
    }
   ],
   "source": [
    "from tensorflow.keras.layers import Conv1D, MaxPooling1D\n",
    "\n",
    "cnn_model = Sequential()\n",
    "cnn_model.add(Embedding(vocab_size, num_features, weights = [embedding_matrix], input_length = max_len))\n",
    "cnn_model.add(Conv1D(filters=32, kernel_size=3, padding='same', activation='relu'))\n",
    "cnn_model.add(MaxPooling1D(pool_size=2))\n",
    "cnn_model.add(Flatten())\n",
    "cnn_model.add(Dense(250, activation='relu'))\n",
    "cnn_model.add(Dense(1, activation='sigmoid'))\n",
    "cnn_model.compile(loss='binary_crossentropy', optimizer='adam', metrics=['accuracy'])\n",
    "print(cnn_model.summary())\n"
   ]
  },
  {
   "cell_type": "code",
   "execution_count": 133,
   "metadata": {},
   "outputs": [
    {
     "name": "stderr",
     "output_type": "stream",
     "text": [
      "/srv/conda/envs/data100/lib/python3.6/site-packages/tensorflow/python/ops/gradients_impl.py:112: UserWarning: Converting sparse IndexedSlices to a dense Tensor of unknown shape. This may consume a large amount of memory.\n",
      "  \"Converting sparse IndexedSlices to a dense Tensor of unknown shape. \"\n"
     ]
    },
    {
     "name": "stdout",
     "output_type": "stream",
     "text": [
      "Epoch 1/10\n",
      "27993/27993 [==============================] - 53s 2ms/step - loss: -1.8802 - acc: 0.5270\n",
      "Epoch 2/10\n",
      "27993/27993 [==============================] - 48s 2ms/step - loss: -3.0004 - acc: 0.6056\n",
      "Epoch 3/10\n",
      "27993/27993 [==============================] - 40s 1ms/step - loss: -3.4632 - acc: 0.6318\n",
      "Epoch 4/10\n",
      "27993/27993 [==============================] - 41s 1ms/step - loss: -3.7222 - acc: 0.6447\n",
      "Epoch 5/10\n",
      "27993/27993 [==============================] - 42s 1ms/step - loss: -3.9355 - acc: 0.6552\n",
      "Epoch 6/10\n",
      "27993/27993 [==============================] - 48s 2ms/step - loss: -4.0496 - acc: 0.6595\n",
      "Epoch 7/10\n",
      "27993/27993 [==============================] - 43s 2ms/step - loss: -4.1354 - acc: 0.6635\n",
      "Epoch 8/10\n",
      "27993/27993 [==============================] - 46s 2ms/step - loss: -4.2231 - acc: 0.6653\n",
      "Epoch 9/10\n",
      "27993/27993 [==============================] - 45s 2ms/step - loss: -4.2832 - acc: 0.6675\n",
      "Epoch 10/10\n",
      "27993/27993 [==============================] - 40s 1ms/step - loss: -4.2827 - acc: 0.6678\n"
     ]
    },
    {
     "data": {
      "text/plain": [
       "<tensorflow.python.keras.callbacks.History at 0x7fbeb628ad30>"
      ]
     },
     "execution_count": 133,
     "metadata": {},
     "output_type": "execute_result"
    }
   ],
   "source": [
    "cnn_model.fit(train, y_train, epochs = 10, batch_size = 30, verbose=1)"
   ]
  },
  {
   "cell_type": "code",
   "execution_count": 134,
   "metadata": {},
   "outputs": [
    {
     "name": "stdout",
     "output_type": "stream",
     "text": [
      "Testing Accuracy:  0.6054\n"
     ]
    }
   ],
   "source": [
    "loss, accuracy = cnn_model.evaluate(test, y_test, verbose=False)\n",
    "print(\"Testing Accuracy:  {:.4f}\".format(accuracy))"
   ]
  },
  {
   "cell_type": "markdown",
   "metadata": {},
   "source": [
    "# LSTM with pre-trained GloVe Embeddings"
   ]
  },
  {
   "cell_type": "code",
   "execution_count": 38,
   "metadata": {},
   "outputs": [],
   "source": [
    "path = \"/home/jovyan/Trump_Twitter_Sentiment_Analysis/data/glove.6B.100d.txt\"\n",
    "\n",
    "def create_embedding_matrix(filepath, num_features):\n",
    "    embedding_matrix = np.zeros((vocab_size, num_features))\n",
    "\n",
    "    with open(filepath) as f:\n",
    "        for line in f:\n",
    "            word, *vector = line.split()\n",
    "            if word in word_vectors:\n",
    "                embedding_matrix[i] = word_vectors[word]\n",
    "    return embedding_matrix"
   ]
  },
  {
   "cell_type": "code",
   "execution_count": 39,
   "metadata": {},
   "outputs": [],
   "source": [
    "glove_embedding_matrix = create_embedding_matrix(path, num_features)"
   ]
  },
  {
   "cell_type": "code",
   "execution_count": 41,
   "metadata": {},
   "outputs": [
    {
     "name": "stdout",
     "output_type": "stream",
     "text": [
      "_________________________________________________________________\n",
      "Layer (type)                 Output Shape              Param #   \n",
      "=================================================================\n",
      "embedding_1 (Embedding)      (None, 140, 300)          5252400   \n",
      "_________________________________________________________________\n",
      "dropout (Dropout)            (None, 140, 300)          0         \n",
      "_________________________________________________________________\n",
      "lstm (LSTM)                  (None, 100)               160400    \n",
      "_________________________________________________________________\n",
      "dense (Dense)                (None, 1)                 101       \n",
      "=================================================================\n",
      "Total params: 5,412,901\n",
      "Trainable params: 5,412,901\n",
      "Non-trainable params: 0\n",
      "_________________________________________________________________\n"
     ]
    }
   ],
   "source": [
    "from tensorflow.keras.layers import LSTM, Dropout\n",
    "rnn_model = Sequential()\n",
    "rnn_model.add(Embedding(vocab_size, num_features, weights = [glove_embedding_matrix], input_length = max_len))\n",
    "rnn_model.add(Dropout(0.5))\n",
    "rnn_model.add(LSTM(100, dropout=0.2, recurrent_dropout=0.2))\n",
    "rnn_model.add(Dense(1, activation='sigmoid'))\n",
    "rnn_model.compile(loss='binary_crossentropy',\n",
    "              optimizer=\"adam\",\n",
    "              metrics=['accuracy'])\n",
    "\n",
    "rnn_model.summary()"
   ]
  },
  {
   "cell_type": "code",
   "execution_count": 43,
   "metadata": {},
   "outputs": [
    {
     "name": "stdout",
     "output_type": "stream",
     "text": [
      "Epoch 1/10\n",
      "27993/27993 [==============================] - 197s 7ms/step - loss: -2.4465 - acc: 0.5677\n",
      "Epoch 2/10\n",
      "27993/27993 [==============================] - 199s 7ms/step - loss: -3.2946 - acc: 0.6112\n",
      "Epoch 3/10\n",
      "27993/27993 [==============================] - 206s 7ms/step - loss: -3.6556 - acc: 0.6313\n",
      "Epoch 4/10\n",
      "27993/27993 [==============================] - 189s 7ms/step - loss: -3.8649 - acc: 0.6443\n",
      "Epoch 5/10\n",
      "27993/27993 [==============================] - 191s 7ms/step - loss: -3.9943 - acc: 0.6531\n",
      "Epoch 6/10\n",
      "27993/27993 [==============================] - 193s 7ms/step - loss: -4.0863 - acc: 0.6567\n",
      "Epoch 7/10\n",
      "27993/27993 [==============================] - 189s 7ms/step - loss: -4.1418 - acc: 0.6609\n",
      "Epoch 8/10\n",
      "27993/27993 [==============================] - 191s 7ms/step - loss: -4.1619 - acc: 0.6617\n",
      "Epoch 9/10\n",
      "27993/27993 [==============================] - 191s 7ms/step - loss: -4.2315 - acc: 0.6668\n",
      "Epoch 10/10\n",
      "27993/27993 [==============================] - 191s 7ms/step - loss: -4.2720 - acc: 0.6682\n"
     ]
    },
    {
     "data": {
      "text/plain": [
       "<tensorflow.python.keras.callbacks.History at 0x7fb2537ac940>"
      ]
     },
     "execution_count": 43,
     "metadata": {},
     "output_type": "execute_result"
    }
   ],
   "source": [
    "rnn_model.fit(train, y_train, epochs = 10, batch_size = 128, verbose=1)"
   ]
  },
  {
   "cell_type": "code",
   "execution_count": 44,
   "metadata": {},
   "outputs": [
    {
     "name": "stdout",
     "output_type": "stream",
     "text": [
      "Testing Accuracy:  0.6169\n"
     ]
    }
   ],
   "source": [
    "loss, accuracy = rnn_model.evaluate(test, y_test, verbose=False)\n",
    "print(\"Testing Accuracy:  {:.4f}\".format(accuracy))"
   ]
  }
 ],
 "metadata": {
  "kernelspec": {
   "display_name": "Python 3",
   "language": "python",
   "name": "python3"
  },
  "language_info": {
   "codemirror_mode": {
    "name": "ipython",
    "version": 3
   },
   "file_extension": ".py",
   "mimetype": "text/x-python",
   "name": "python",
   "nbconvert_exporter": "python",
   "pygments_lexer": "ipython3",
   "version": "3.6.4"
  }
 },
 "nbformat": 4,
 "nbformat_minor": 4
}
